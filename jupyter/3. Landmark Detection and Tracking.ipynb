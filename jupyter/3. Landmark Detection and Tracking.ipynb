{
 "cells": [
  {
   "cell_type": "markdown",
   "metadata": {},
   "source": [
    "# SLAM Implementation\n",
    "\n",
    "---\n",
    "\n",
    "## Project Overview\n",
    "\n",
    "In this project, we'll implement SLAM for robot that moves and senses in a 2 dimensional grid world.\n",
    "\n",
    "SLAM gives us a way to both localize a robot and build up a map of its environment as a robot moves and senses in real-time. This is an active area of research in the fields of robotics and autonomous systems. Since this localization and map-building relies on the visual sensing of landmarks, this is a computer vision problem. \n",
    "\n",
    "To implement SLAM algorithm we'll define a `slam` function, which takes in six parameters as input and returns the vector `mu`. \n",
    "This vector contains the locations of the robot as it moves and the positions of landmarks that it senses in the world. `mu` should have (x, y) coordinates interlaced, for example, if there were 2 poses and 2 landmarks, `mu` will look like the following, where `P` is the robot position and `L` the landmark position:\n",
    "```\n",
    "mu =  matrix([[Px0],\n",
    "              [Py0],\n",
    "              [Px1],\n",
    "              [Py1],\n",
    "              [Lx0],\n",
    "              [Ly0],\n",
    "              [Lx1],\n",
    "              [Ly1]])\n",
    "```\n",
    "\n",
    "It holds the poses first `(x0, y0), (x1, y1), ...,` then the landmark locations at the end of the matrix. We consider a `nx1` matrix to be a vector.\n",
    "\n",
    "## Generating an environment\n",
    "\n",
    "In a real SLAM problem we may be given a map that contains information about landmark locations, and in this example, we will make our own data using the `make_data` function, which generates a world grid with landmarks in it and then generates data by placing a robot in that world and moving and sensing over some numer of time steps. The `make_data` function relies on a correct implementation of robot move/sense functions in the `robot_class.py` file. The data is collected as an instantiated robot moves and senses in a world. Our SLAM function will take in this data as input. So, let's first create this data and explore how it represents the movement and sensor measurements that our robot takes.\n"
   ]
  },
  {
   "cell_type": "markdown",
   "metadata": {},
   "source": [
    "The code below generates a world of a specified size with randomly generated landmark locations. `data` holds the sensors measurements and motion of our robot over time. It stores the measurements as `data[i][0]` and the motion as `data[i][1]`. The details of how `make_data` works can be found in the `helpers.py` file."
   ]
  },
  {
   "cell_type": "code",
   "execution_count": 28,
   "metadata": {},
   "outputs": [
    {
     "name": "stdout",
     "output_type": "stream",
     "text": [
      " \n",
      "Landmarks:  [[36, 25], [0, 15], [32, 83], [91, 11], [38, 78]]\n",
      "Robot: [x=94.34090 y=9.70836]\n"
     ]
    }
   ],
   "source": [
    "import numpy as np\n",
    "from helpers import make_data\n",
    "\n",
    "# world parameters\n",
    "num_landmarks      = 5        # number of landmarks\n",
    "N                  = 20       # time steps\n",
    "world_size         = 100.0    # size of world (square)\n",
    "\n",
    "# robot parameters\n",
    "measurement_range  = 50.0     # range at which we can sense landmarks\n",
    "motion_noise       = 2.0      # noise in robot motion\n",
    "measurement_noise  = 2.0      # noise in the measurements\n",
    "distance           = 20.0     # distance by which robot (intends to) move each iteratation \n",
    "\n",
    "\n",
    "# make_data instantiates a robot and generates random landmarks for a given world size and number of landmarks\n",
    "data = make_data(N, num_landmarks, world_size, measurement_range, motion_noise, measurement_noise, distance)"
   ]
  },
  {
   "cell_type": "markdown",
   "metadata": {},
   "source": [
    "### Understanding the `data` and `make_data`\n",
    "\n",
    "The function `make_data` is responsible for instantiating a robot (using the robot class) and creating a grid world with landmarks in it. It also prints out the true location of landmarks and the *final* robot location, which we can refer back to when testing our implementation of SLAM.\n",
    "\n",
    "The returned array holds information about **robot sensor measurements** and **robot motion** `(dx, dy)` collected over a number of time steps, `N`. We will have to use *only* these readings about motion and measurements to track a robot over time and find the determine the location of the landmarks using SLAM. \n",
    "\n",
    "The measurement and motion data can be accessed from the first and second index in the columns of the `data` array. For an example, for the i-th time step we can get it this way:\n",
    "```\n",
    "measurement = data[i][0]\n",
    "motion = data[i][1]\n",
    "```\n"
   ]
  },
  {
   "cell_type": "code",
   "execution_count": 29,
   "metadata": {},
   "outputs": [
    {
     "name": "stdout",
     "output_type": "stream",
     "text": [
      "Example measurements: \n",
      " [[0, -12.692136309079405, -26.273099151321524], [2, -19.041883206550132, 33.7629403213698], [4, -12.548489393248012, 27.724542213429032]]\n",
      "\n",
      "\n",
      "Example motion: \n",
      " [-0.01912114526237479, -19.999990859543008]\n"
     ]
    }
   ],
   "source": [
    "# print out some stats about the data\n",
    "time_step = 0\n",
    "\n",
    "print('Example measurements: \\n', data[time_step][0])\n",
    "print('\\n')\n",
    "print('Example motion: \\n', data[time_step][1])"
   ]
  },
  {
   "cell_type": "markdown",
   "metadata": {},
   "source": [
    "When the value of `time_step` is changed, the list of measurements varies based on what in the world the robot sees after it moves. The robot can only sense so far and with a certain amount of accuracy in the measure of distance between its location and the location of landmarks. The motion of the robot is always a vector with two values: one for x and one for y displacement. "
   ]
  },
  {
   "cell_type": "markdown",
   "metadata": {},
   "source": [
    "## Constraint Initialization\n",
    "\n",
    "One of the most challenging tasks here is to create and modify the constraint matrix and vector: omega and xi. They hold all the values defining the relationships between robot poses `xi` and landmark positions `Li`. Below is an example for 1D world, where omega is the blue matrix and xi is the pink vector.\n",
    "\n",
    "<img src='images/motion_constraint.png' width=50% height=50% />\n",
    "\n",
    "\n",
    "In a 2D world we are referring to robot poses as `Px, Py` and landmark positions as `Lx, Ly`. We can add *both* x and y locations in the constraint matrices:\n",
    "\n",
    "<img src='images/constraints2D.png' width=50% height=50% />\n",
    "\n",
    "Alrernatively, we may choose to create two of each omega and xi (one for x and one for y positions)."
   ]
  },
  {
   "cell_type": "markdown",
   "metadata": {},
   "source": [
    "### A function to initialize omega and xi\n",
    "\n",
    "The `initialize_constraints` function returns `omega` and `xi` constraints for the starting position of the robot. Any values that we do not yet know should be initialized with the value `0`. We assume that the robot starts out in exactly the middle of the world with 100% confidence (no motion or measurement noise at this point). The inputs `N` time steps, `num_landmarks`, and `world_size` give all the information needed to construct intial constraints of the correct size and starting values."
   ]
  },
  {
   "cell_type": "code",
   "execution_count": 30,
   "metadata": {},
   "outputs": [],
   "source": [
    "def initialize_constraints(N, num_landmarks, world_size):\n",
    "    ''' This function takes in a number of time steps N, number of landmarks, and a world_size,\n",
    "        and returns initialized constraint matrices, omega and xi.'''\n",
    "    \n",
    "    # Define and store the size (rows/cols) of the constraint matrix in a variable\n",
    "    size = N + num_landmarks\n",
    "    \n",
    "    \n",
    "    # Define the constraint matrix, Omega, with two initial \"strength\" values\n",
    "    # for the initial x, y location of our robot\n",
    "    \n",
    "    omega_x = np.zeros((size, size))\n",
    "    omega_x[0,0] = 1 # x0\n",
    "    \n",
    "    omega_y = np.zeros((size, size))\n",
    "    omega_y[0,0] = 1 # y0\n",
    "    \n",
    "    # Define the constraint *vector*, xi assuming that the robot\n",
    "    # starts out in the middle of the world with 100% confidence\n",
    "    xi_x = np.zeros(size)\n",
    "    xi_x[0] = world_size / 2.0\n",
    "    \n",
    "    xi_y = np.zeros(size)\n",
    "    xi_y[0] = world_size / 2.0\n",
    "    \n",
    "    return omega_x, xi_x, omega_y, xi_y"
   ]
  },
  {
   "cell_type": "markdown",
   "metadata": {},
   "source": [
    "### Test as we go\n",
    "\n",
    "It's a good practice to test out the code as we go. Since `slam` relies on creating and updating constraint matrices, `omega` and `xi` to account for robot sensor measurements and motion, let's check that they initialize as expected for any given parameters.\n",
    "\n",
    "The test code below allows to visualize the results of the `initialize_constraints` function. The [seaborn](https://seaborn.pydata.org/) library is used for visualization.\n",
    "\n",
    "The constraints should vary in size with the number of time steps and landmarks as these values affect the number of poses a robot will take and landmark locations which relationships should be tracked in the constraint matrices. `omega` holds the weights of each variable and `xi` holds the value of the sum of these variables, as seen in Notebook 2. "
   ]
  },
  {
   "cell_type": "code",
   "execution_count": 31,
   "metadata": {},
   "outputs": [],
   "source": [
    "# import data viz resources\n",
    "import matplotlib.pyplot as plt\n",
    "from pandas import DataFrame\n",
    "import seaborn as sns\n",
    "%matplotlib inline"
   ]
  },
  {
   "cell_type": "code",
   "execution_count": 32,
   "metadata": {},
   "outputs": [],
   "source": [
    "# define a small N and world_size (small for ease of visualization)\n",
    "N_test = 5\n",
    "num_landmarks_test = 2\n",
    "small_world = 10\n",
    "\n",
    "# initialize the constraints\n",
    "#initial_omega, initial_xi = initialize_constraints(N_test, num_landmarks_test, small_world)\n",
    "initial_omega_x, initial_xi_x, initial_omega_y, initial_xi_y = initialize_constraints(N_test, num_landmarks_test, small_world)"
   ]
  },
  {
   "cell_type": "code",
   "execution_count": 33,
   "metadata": {},
   "outputs": [
    {
     "data": {
      "text/plain": [
       "<matplotlib.axes._subplots.AxesSubplot at 0x751b92fd0>"
      ]
     },
     "execution_count": 33,
     "metadata": {},
     "output_type": "execute_result"
    },
    {
     "data": {
      "image/png": "[encoded data removed]",
      "text/plain": [
       "<Figure size 720x504 with 2 Axes>"
      ]
     },
     "metadata": {
      "needs_background": "light"
     },
     "output_type": "display_data"
    }
   ],
   "source": [
    "# define figure size\n",
    "plt.rcParams[\"figure.figsize\"] = (10,7)\n",
    "\n",
    "# display omega\n",
    "#sns.heatmap(DataFrame(initial_omega), cmap='Blues', annot=True, linewidths=.5)\n",
    "sns.heatmap(DataFrame(initial_omega_x), cmap='Blues', annot=True, linewidths=.5)"
   ]
  },
  {
   "cell_type": "code",
   "execution_count": 34,
   "metadata": {},
   "outputs": [
    {
     "data": {
      "text/plain": [
       "<matplotlib.axes._subplots.AxesSubplot at 0x755543080>"
      ]
     },
     "execution_count": 34,
     "metadata": {},
     "output_type": "execute_result"
    },
    {
     "data": {
      "image/png": "[encoded data removed]",
      "text/plain": [
       "<Figure size 720x504 with 2 Axes>"
      ]
     },
     "metadata": {
      "needs_background": "light"
     },
     "output_type": "display_data"
    }
   ],
   "source": [
    "# define figure size\n",
    "plt.rcParams[\"figure.figsize\"] = (10,7)\n",
    "\n",
    "# display omega\n",
    "#sns.heatmap(DataFrame(initial_omega), cmap='Blues', annot=True, linewidths=.5)\n",
    "sns.heatmap(DataFrame(initial_omega_y), cmap='Blues', annot=True, linewidths=.5)"
   ]
  },
  {
   "cell_type": "code",
   "execution_count": 35,
   "metadata": {},
   "outputs": [
    {
     "data": {
      "text/plain": [
       "<matplotlib.axes._subplots.AxesSubplot at 0x755664f28>"
      ]
     },
     "execution_count": 35,
     "metadata": {},
     "output_type": "execute_result"
    },
    {
     "data": {
      "image/png": "[encoded data removed]",
      "text/plain": [
       "<Figure size 72x504 with 2 Axes>"
      ]
     },
     "metadata": {
      "needs_background": "light"
     },
     "output_type": "display_data"
    }
   ],
   "source": [
    "# define  figure size\n",
    "plt.rcParams[\"figure.figsize\"] = (1,7)\n",
    "\n",
    "# display xi\n",
    "#sns.heatmap(DataFrame(initial_xi), cmap='Oranges', annot=True, linewidths=.5)\n",
    "sns.heatmap(DataFrame(initial_xi_x), cmap='Oranges', annot=True, linewidths=.5)"
   ]
  },
  {
   "cell_type": "code",
   "execution_count": 36,
   "metadata": {},
   "outputs": [
    {
     "data": {
      "text/plain": [
       "<matplotlib.axes._subplots.AxesSubplot at 0x75565f828>"
      ]
     },
     "execution_count": 36,
     "metadata": {},
     "output_type": "execute_result"
    },
    {
     "data": {
      "image/png": "[encoded data removed]",
      "text/plain": [
       "<Figure size 72x504 with 2 Axes>"
      ]
     },
     "metadata": {
      "needs_background": "light"
     },
     "output_type": "display_data"
    }
   ],
   "source": [
    "# define  figure size\n",
    "plt.rcParams[\"figure.figsize\"] = (1,7)\n",
    "\n",
    "# display xi\n",
    "#sns.heatmap(DataFrame(initial_xi), cmap='Oranges', annot=True, linewidths=.5)\n",
    "sns.heatmap(DataFrame(initial_xi_y), cmap='Oranges', annot=True, linewidths=.5)"
   ]
  },
  {
   "cell_type": "markdown",
   "metadata": {},
   "source": [
    "---\n",
    "## SLAM inputs \n",
    "\n",
    "In addition to `data`, our `slam` function will also take in:\n",
    "* N - The number of time steps that a robot will be moving and sensing\n",
    "* num_landmarks - The number of landmarks in the world\n",
    "* world_size - The size (width and height) of the world\n",
    "* motion_noise - The noise associated with motion\n",
    "* measurement_noise - The noise associated with measurement/sensing\n",
    "\n",
    "\n"
   ]
  },
  {
   "cell_type": "markdown",
   "metadata": {},
   "source": [
    "\n",
    "#### The effect of noise\n",
    "\n",
    "Since `omega` holds the weights for each position variable, we can update these weights by accessing the correct index in omega `omega[row][col]` and adding/subtracting `1.0/noise` where `noise` is measurement or motion noise. `Xi` holds actual position values and to update `xi` we will do a similar addition process only using the actual value of a motion or measurement. Thus, for a vector index `xi[row][0]` we will end up adding/subtracting one measurement or motion divided by their respective `noise`."
   ]
  },
  {
   "cell_type": "markdown",
   "metadata": {},
   "source": [
    "### Graph SLAM Implementation\n",
    "\n",
    "\n",
    "In order to implement Graph SLAM we need to construct equations from the constraint matrices `omega` and `xi`. The solution to these equations is the vector `mu`, which can be computed as the inverse of `omega` times `xi`: $\\mu = \\Omega^{-1}\\xi$."
   ]
  },
  {
   "cell_type": "code",
   "execution_count": 37,
   "metadata": {},
   "outputs": [],
   "source": [
    "def update_matrix(omega, xi, i, j, d, noise):\n",
    "    \"\"\"\n",
    "    Updates the omega matrix and vector xi with respect to the relationship between variables i and j.\n",
    "    \n",
    "    :param omega: The square matrix labeled with robot and landmark positions.\n",
    "    :param xi: The vector defining the constant terms of the constraint equations.\n",
    "    :param i: The positively-weighted variable index.\n",
    "    :param j: The negatively-weighted variable index.\n",
    "    :param d: The displacement between the variables i and j.\n",
    "    :param noise: Either the motion or measurement noise, depending on the type of variables i and j.\n",
    "    \"\"\"\n",
    "    # x[i] - x[j] = d    \n",
    "    omega[i, i] += 1.0/noise            \n",
    "    omega[i, j] -= 1.0/noise \n",
    "    xi[i] += d/noise\n",
    "\n",
    "## slam takes in 6 arguments and returns mu, \n",
    "## mu is the entire path traversed by a robot (all x,y poses) and all landmarks locations\n",
    "def slam(data, N, num_landmarks, world_size, motion_noise, measurement_noise):\n",
    "    \n",
    "    ## Initialize constraint matrices, omega and xi\n",
    "    omega_x, xi_x, omega_y, xi_y = initialize_constraints(N, num_landmarks, world_size)\n",
    "    \n",
    "    ## Iterate through each time step and use all the motion and measurement data to create constraints    \n",
    "    \n",
    "    for t in range(0, len(data)): # 0..N-2\n",
    "    \n",
    "        ## Update the constraint matrix/vector to account for all measurements\n",
    "        ## (this is a series of additions that take into account the measurement noise)\n",
    "        \n",
    "        for lk_index, dx, dy in data[t][0]:\n",
    "                        \n",
    "            # x[t] + dx = Lx[lk_index]\n",
    "                        \n",
    "            update_matrix(omega_x, xi_x, t, N+lk_index, -dx, measurement_noise) # x[t] - Lx[i] = -dx \n",
    "            update_matrix(omega_x, xi_x, N+lk_index, t, dx, measurement_noise) # Lx[i] - x[t] = dx\n",
    "            \n",
    "            # y[t] + dx = Ly[lk_index]\n",
    "            \n",
    "            update_matrix(omega_y, xi_y, t, N+lk_index, -dy, measurement_noise)\n",
    "            update_matrix(omega_y, xi_y, N+lk_index, t, dy, measurement_noise)\n",
    "            \n",
    "            \n",
    "        ## Update the constraint matrix/vector to account for all motion and motion noise\n",
    "        \n",
    "        dx, dy = data[t][1]\n",
    "        \n",
    "        # x[t+1] = x[t] + dx       \n",
    "        \n",
    "        update_matrix(omega_x, xi_x, t, t+1, -dx, motion_noise) # x[t] - x[t+1] = -dx        \n",
    "        update_matrix(omega_x, xi_x, t+1, t, dx, motion_noise) # x[t+1] - x[t] = dx\n",
    "         \n",
    "        # y[t+1] = y[t] + dy\n",
    "        \n",
    "        update_matrix(omega_y, xi_y, t, t+1, -dy, motion_noise)\n",
    "        update_matrix(omega_y, xi_y, t+1, t, dy, motion_noise)\n",
    "        \n",
    "        \n",
    "    ## Compute the best estimate of poses and landmark positions\n",
    "    ## using the formula, omega_inverse * Xi\n",
    "    \n",
    "    mu_x = np.dot(np.linalg.inv(omega_x), xi_x)\n",
    "    mu_y = np.dot(np.linalg.inv(omega_y), xi_y)\n",
    "        \n",
    "    # Combine mu_x and mu_y into a single vector\n",
    "    mu = np.ravel(np.column_stack((mu_x, mu_y)))\n",
    "    \n",
    "    return mu # return `mu`"
   ]
  },
  {
   "cell_type": "markdown",
   "metadata": {},
   "source": [
    "## Helper functions\n",
    "\n",
    "To check that our implementation of SLAM works for various inputs, we'll create two helper functions that display the estimated pose and landmark locations that `slam` function has produced. \n"
   ]
  },
  {
   "cell_type": "markdown",
   "metadata": {},
   "source": [
    "First, given a result `mu` and the number of time steps, `N`, we define a function that extracts robot poses and landmark locations and returns them as separate lists. "
   ]
  },
  {
   "cell_type": "code",
   "execution_count": 38,
   "metadata": {},
   "outputs": [],
   "source": [
    "# a helper function that creates a list of poses and of landmarks for ease of printing\n",
    "def get_poses_landmarks(mu, N):\n",
    "    # create a list of poses\n",
    "    poses = []\n",
    "    for i in range(N):\n",
    "        poses.append((mu[2*i].item(), mu[2*i+1].item()))\n",
    "\n",
    "    # create a list of landmarks\n",
    "    landmarks = []\n",
    "    for i in range(num_landmarks):\n",
    "        landmarks.append((mu[2*(N+i)].item(), mu[2*(N+i)+1].item()))\n",
    "\n",
    "    # return completed lists\n",
    "    return poses, landmarks\n"
   ]
  },
  {
   "cell_type": "markdown",
   "metadata": {},
   "source": [
    "Then, we define a function that nicely prints out these lists."
   ]
  },
  {
   "cell_type": "code",
   "execution_count": 39,
   "metadata": {},
   "outputs": [],
   "source": [
    "def print_all(poses, landmarks):\n",
    "    print('\\n')\n",
    "    print('Estimated Poses:')\n",
    "    for i in range(len(poses)):\n",
    "        print('['+', '.join('%.3f'%p for p in poses[i])+']')\n",
    "    print('\\n')\n",
    "    print('Estimated Landmarks:')\n",
    "    for i in range(len(landmarks)):\n",
    "        print('['+', '.join('%.3f'%l for l in landmarks[i])+']')\n"
   ]
  },
  {
   "cell_type": "markdown",
   "metadata": {},
   "source": [
    "## Run SLAM\n",
    "\n",
    "Once we've completed the implementation of `slam`, let's see what `mu` it returns for different world sizes and different landmarks.\n",
    "\n",
    "We expect to see a result that displays two lists:\n",
    "\n",
    "1. **Estimated poses**, a list of (x, y) pairs that is exactly `N` in length since this is how many motions our robot has taken. The very first pose should be the center of the world, e.g. `[50.000, 50.000]` for a world that is 100.0 in square size.\n",
    "\n",
    "2. **Estimated landmarks**, a list of landmark positions (x, y) that is exactly `num_landmarks` in length. These values should be very similar to the printout of exact landmark locations, but not quite (since `slam` must account for noise in motion and measurement)."
   ]
  },
  {
   "cell_type": "code",
   "execution_count": 45,
   "metadata": {},
   "outputs": [
    {
     "name": "stdout",
     "output_type": "stream",
     "text": [
      "\n",
      "\n",
      "Estimated Poses:\n",
      "[50.000, 50.000]\n",
      "[48.753, 30.519]\n",
      "[49.154, 11.313]\n",
      "[51.371, 31.258]\n",
      "[53.069, 50.352]\n",
      "[54.413, 69.708]\n",
      "[56.727, 88.502]\n",
      "[37.813, 79.296]\n",
      "[19.187, 70.358]\n",
      "[1.935, 62.355]\n",
      "[21.424, 66.795]\n",
      "[38.837, 71.319]\n",
      "[58.233, 75.347]\n",
      "[78.721, 79.154]\n",
      "[97.822, 84.559]\n",
      "[91.712, 66.126]\n",
      "[85.602, 47.693]\n",
      "[79.957, 27.239]\n",
      "[74.450, 9.190]\n",
      "[94.414, 10.392]\n",
      "\n",
      "\n",
      "Estimated Landmarks:\n",
      "[35.948, 24.198]\n",
      "[2.269, 16.513]\n",
      "[32.483, 83.162]\n",
      "[91.935, 10.387]\n",
      "[38.514, 77.335]\n"
     ]
    }
   ],
   "source": [
    "# call our implementation of slam, passing in the necessary parameters\n",
    "mu = slam(data, N, num_landmarks, world_size, motion_noise, measurement_noise)\n",
    "\n",
    "# print out the resulting landmarks and poses\n",
    "if(mu is not None):\n",
    "    # get the lists of poses and landmarks and print them out\n",
    "    poses, landmarks = get_poses_landmarks(mu, N)\n",
    "    print_all(poses, landmarks)"
   ]
  },
  {
   "cell_type": "markdown",
   "metadata": {},
   "source": [
    "## Visualization\n",
    "\n",
    "Using the `display_world` code from the `helpers.py` file (also used in the first notebook), we can actually visualize the results of `slam`: the final position of the robot and the positon of landmarks, created from only motion and measurement data.\n",
    "\n",
    "Note that these values are very similar to the printed true landmark locations and final pose from our call to `make_data` early in this notebook."
   ]
  },
  {
   "cell_type": "code",
   "execution_count": 46,
   "metadata": {},
   "outputs": [
    {
     "name": "stdout",
     "output_type": "stream",
     "text": [
      "Last pose:  (94.41358806531159, 10.392422191515132)\n"
     ]
    },
    {
     "data": {
      "image/png": "[encoded data removed]",
      "text/plain": [
       "<Figure size 1440x1440 with 1 Axes>"
      ]
     },
     "metadata": {},
     "output_type": "display_data"
    }
   ],
   "source": [
    "# import the helper function\n",
    "from helpers import display_world\n",
    "\n",
    "# Display the final world\n",
    "\n",
    "# define figure size\n",
    "plt.rcParams[\"figure.figsize\"] = (20,20)\n",
    "\n",
    "# check if poses have been created\n",
    "if 'poses' in locals():\n",
    "    # print out the last pose\n",
    "    print('Last pose: ', poses[-1])\n",
    "    # display the last position of the robot and the landmark positions\n",
    "    display_world(int(world_size), poses[-1], landmarks)"
   ]
  },
  {
   "cell_type": "markdown",
   "metadata": {},
   "source": [
    "## Credits\n",
    "\n",
    "This project is based on the \"Landmark Detection and Tracking\" assignment from [Udacity Computer Vision Nanodegree](https://www.udacity.com/course/computer-vision-nanodegree--nd891).\n"
   ]
  },
  {
   "cell_type": "code",
   "execution_count": null,
   "metadata": {},
   "outputs": [],
   "source": []
  }
 ],
 "metadata": {
  "kernelspec": {
   "display_name": "Python 3",
   "language": "python",
   "name": "python3"
  },
  "language_info": {
   "codemirror_mode": {
    "name": "ipython",
    "version": 3
   },
   "file_extension": ".py",
   "mimetype": "text/x-python",
   "name": "python",
   "nbconvert_exporter": "python",
   "pygments_lexer": "ipython3",
   "version": "3.6.10"
  }
 },
 "nbformat": 4,
 "nbformat_minor": 2
}
